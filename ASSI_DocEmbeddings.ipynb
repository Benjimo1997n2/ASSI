{
  "cells": [
    {
      "cell_type": "code",
      "execution_count": null,
      "metadata": {
        "id": "U9KKsq3JMf9z"
      },
      "outputs": [],
      "source": [
        "%%capture\n",
        "!pip install -q flair\n",
        "!pip install -q SPARQLWrapper\n",
        "!pip install -q sentence-transformers"
      ]
    },
    {
      "cell_type": "code",
      "execution_count": null,
      "metadata": {
        "colab": {
          "base_uri": "https://localhost:8080/"
        },
        "id": "VvqWWSe1shMP",
        "outputId": "39b42cc1-106b-4d88-9933-b502d01629cf"
      },
      "outputs": [
        {
          "output_type": "stream",
          "name": "stdout",
          "text": [
            "Drive already mounted at /content/drive; to attempt to forcibly remount, call drive.mount(\"/content/drive\", force_remount=True).\n"
          ]
        }
      ],
      "source": [
        "from google.colab import drive\n",
        "drive.mount('/content/drive')"
      ]
    },
    {
      "cell_type": "code",
      "execution_count": null,
      "metadata": {
        "id": "HTB5puitMn_S"
      },
      "outputs": [],
      "source": [
        "import itertools\n",
        "import pandas as pd\n",
        "from heapq import nsmallest\n",
        "from flair.data import Sentence\n",
        "from scipy.spatial import distance\n",
        "from SPARQLWrapper import SPARQLWrapper, JSON\n",
        "from flair.embeddings import WordEmbeddings\n",
        "from flair.embeddings import SentenceTransformerDocumentEmbeddings"
      ]
    },
    {
      "cell_type": "code",
      "execution_count": null,
      "metadata": {
        "colab": {
          "base_uri": "https://localhost:8080/"
        },
        "id": "Hgc-a3C3NF0u",
        "outputId": "087d21c4-9d3d-47e8-ee19-add7cc340f22"
      },
      "outputs": [
        {
          "output_type": "stream",
          "name": "stderr",
          "text": [
            "WARNING:sentence_transformers.SentenceTransformer:No sentence-transformers model found with name /root/.cache/torch/sentence_transformers/bert-base-multilingual-cased. Creating a new one with MEAN pooling.\n",
            "Some weights of the model checkpoint at /root/.cache/torch/sentence_transformers/bert-base-multilingual-cased were not used when initializing BertModel: ['cls.predictions.transform.LayerNorm.bias', 'cls.seq_relationship.weight', 'cls.predictions.transform.dense.weight', 'cls.predictions.transform.dense.bias', 'cls.seq_relationship.bias', 'cls.predictions.transform.LayerNorm.weight', 'cls.predictions.decoder.weight', 'cls.predictions.bias']\n",
            "- This IS expected if you are initializing BertModel from the checkpoint of a model trained on another task or with another architecture (e.g. initializing a BertForSequenceClassification model from a BertForPreTraining model).\n",
            "- This IS NOT expected if you are initializing BertModel from the checkpoint of a model that you expect to be exactly identical (initializing a BertForSequenceClassification model from a BertForSequenceClassification model).\n"
          ]
        }
      ],
      "source": [
        "%%capture\n",
        "document_embedding = SentenceTransformerDocumentEmbeddings('bert-base-multilingual-cased')"
      ]
    },
    {
      "cell_type": "code",
      "source": [
        "uri = \"http://aims.fao.org/aos/agrovoc/c_1229\" # importation\n",
        "# uri = \"http://aims.fao.org/aos/agrovoc/c_3815\" # importation\n",
        "# uri = \"http://aims.fao.org/aos/agrovoc/c_7713\" # cacao"
      ],
      "metadata": {
        "id": "QAI2vltULVra"
      },
      "execution_count": null,
      "outputs": []
    },
    {
      "cell_type": "code",
      "execution_count": null,
      "metadata": {
        "colab": {
          "base_uri": "https://localhost:8080/",
          "height": 461
        },
        "id": "2VeXuMWlfrlW",
        "outputId": "41e863fe-04bd-49b2-beb0-0635377f194a"
      },
      "outputs": [
        {
          "output_type": "stream",
          "name": "stderr",
          "text": [
            "/usr/local/lib/python3.7/dist-packages/ipykernel_launcher.py:34: FutureWarning: pandas.io.json.json_normalize is deprecated, use pandas.json_normalize instead\n"
          ]
        },
        {
          "output_type": "execute_result",
          "data": {
            "text/plain": [
              "                                    AbstractValue.value\n",
              "0     Carences, excès, analyses foliaires de CU, ZN,...\n",
              "1     Approche globale des systèmes de production re...\n",
              "2     La culture du maïs s'est largement répandue da...\n",
              "3     Dans l'Extrême-Nord du Cameroun, province la p...\n",
              "4     L'étude clinique et épidémiologique de la bruc...\n",
              "...                                                 ...\n",
              "1405  L'intervention du projet DPGT sur l'organisati...\n",
              "1406  Banane : le marché s'est sorti de la grave cri...\n",
              "1407  Banane: Malgré des volumes en retrait par rapp...\n",
              "1408  In this report, we present the first descripti...\n",
              "1409  The antifungal and antiaflatoxinogenic activit...\n",
              "\n",
              "[1410 rows x 1 columns]"
            ],
            "text/html": [
              "\n",
              "  <div id=\"df-7cef4f4a-3be7-4521-995d-35e535679d1f\">\n",
              "    <div class=\"colab-df-container\">\n",
              "      <div>\n",
              "<style scoped>\n",
              "    .dataframe tbody tr th:only-of-type {\n",
              "        vertical-align: middle;\n",
              "    }\n",
              "\n",
              "    .dataframe tbody tr th {\n",
              "        vertical-align: top;\n",
              "    }\n",
              "\n",
              "    .dataframe thead th {\n",
              "        text-align: right;\n",
              "    }\n",
              "</style>\n",
              "<table border=\"1\" class=\"dataframe\">\n",
              "  <thead>\n",
              "    <tr style=\"text-align: right;\">\n",
              "      <th></th>\n",
              "      <th>AbstractValue.value</th>\n",
              "    </tr>\n",
              "  </thead>\n",
              "  <tbody>\n",
              "    <tr>\n",
              "      <th>0</th>\n",
              "      <td>Carences, excès, analyses foliaires de CU, ZN,...</td>\n",
              "    </tr>\n",
              "    <tr>\n",
              "      <th>1</th>\n",
              "      <td>Approche globale des systèmes de production re...</td>\n",
              "    </tr>\n",
              "    <tr>\n",
              "      <th>2</th>\n",
              "      <td>La culture du maïs s'est largement répandue da...</td>\n",
              "    </tr>\n",
              "    <tr>\n",
              "      <th>3</th>\n",
              "      <td>Dans l'Extrême-Nord du Cameroun, province la p...</td>\n",
              "    </tr>\n",
              "    <tr>\n",
              "      <th>4</th>\n",
              "      <td>L'étude clinique et épidémiologique de la bruc...</td>\n",
              "    </tr>\n",
              "    <tr>\n",
              "      <th>...</th>\n",
              "      <td>...</td>\n",
              "    </tr>\n",
              "    <tr>\n",
              "      <th>1405</th>\n",
              "      <td>L'intervention du projet DPGT sur l'organisati...</td>\n",
              "    </tr>\n",
              "    <tr>\n",
              "      <th>1406</th>\n",
              "      <td>Banane : le marché s'est sorti de la grave cri...</td>\n",
              "    </tr>\n",
              "    <tr>\n",
              "      <th>1407</th>\n",
              "      <td>Banane: Malgré des volumes en retrait par rapp...</td>\n",
              "    </tr>\n",
              "    <tr>\n",
              "      <th>1408</th>\n",
              "      <td>In this report, we present the first descripti...</td>\n",
              "    </tr>\n",
              "    <tr>\n",
              "      <th>1409</th>\n",
              "      <td>The antifungal and antiaflatoxinogenic activit...</td>\n",
              "    </tr>\n",
              "  </tbody>\n",
              "</table>\n",
              "<p>1410 rows × 1 columns</p>\n",
              "</div>\n",
              "      <button class=\"colab-df-convert\" onclick=\"convertToInteractive('df-7cef4f4a-3be7-4521-995d-35e535679d1f')\"\n",
              "              title=\"Convert this dataframe to an interactive table.\"\n",
              "              style=\"display:none;\">\n",
              "        \n",
              "  <svg xmlns=\"http://www.w3.org/2000/svg\" height=\"24px\"viewBox=\"0 0 24 24\"\n",
              "       width=\"24px\">\n",
              "    <path d=\"M0 0h24v24H0V0z\" fill=\"none\"/>\n",
              "    <path d=\"M18.56 5.44l.94 2.06.94-2.06 2.06-.94-2.06-.94-.94-2.06-.94 2.06-2.06.94zm-11 1L8.5 8.5l.94-2.06 2.06-.94-2.06-.94L8.5 2.5l-.94 2.06-2.06.94zm10 10l.94 2.06.94-2.06 2.06-.94-2.06-.94-.94-2.06-.94 2.06-2.06.94z\"/><path d=\"M17.41 7.96l-1.37-1.37c-.4-.4-.92-.59-1.43-.59-.52 0-1.04.2-1.43.59L10.3 9.45l-7.72 7.72c-.78.78-.78 2.05 0 2.83L4 21.41c.39.39.9.59 1.41.59.51 0 1.02-.2 1.41-.59l7.78-7.78 2.81-2.81c.8-.78.8-2.07 0-2.86zM5.41 20L4 18.59l7.72-7.72 1.47 1.35L5.41 20z\"/>\n",
              "  </svg>\n",
              "      </button>\n",
              "      \n",
              "  <style>\n",
              "    .colab-df-container {\n",
              "      display:flex;\n",
              "      flex-wrap:wrap;\n",
              "      gap: 12px;\n",
              "    }\n",
              "\n",
              "    .colab-df-convert {\n",
              "      background-color: #E8F0FE;\n",
              "      border: none;\n",
              "      border-radius: 50%;\n",
              "      cursor: pointer;\n",
              "      display: none;\n",
              "      fill: #1967D2;\n",
              "      height: 32px;\n",
              "      padding: 0 0 0 0;\n",
              "      width: 32px;\n",
              "    }\n",
              "\n",
              "    .colab-df-convert:hover {\n",
              "      background-color: #E2EBFA;\n",
              "      box-shadow: 0px 1px 2px rgba(60, 64, 67, 0.3), 0px 1px 3px 1px rgba(60, 64, 67, 0.15);\n",
              "      fill: #174EA6;\n",
              "    }\n",
              "\n",
              "    [theme=dark] .colab-df-convert {\n",
              "      background-color: #3B4455;\n",
              "      fill: #D2E3FC;\n",
              "    }\n",
              "\n",
              "    [theme=dark] .colab-df-convert:hover {\n",
              "      background-color: #434B5C;\n",
              "      box-shadow: 0px 1px 3px 1px rgba(0, 0, 0, 0.15);\n",
              "      filter: drop-shadow(0px 1px 2px rgba(0, 0, 0, 0.3));\n",
              "      fill: #FFFFFF;\n",
              "    }\n",
              "  </style>\n",
              "\n",
              "      <script>\n",
              "        const buttonEl =\n",
              "          document.querySelector('#df-7cef4f4a-3be7-4521-995d-35e535679d1f button.colab-df-convert');\n",
              "        buttonEl.style.display =\n",
              "          google.colab.kernel.accessAllowed ? 'block' : 'none';\n",
              "\n",
              "        async function convertToInteractive(key) {\n",
              "          const element = document.querySelector('#df-7cef4f4a-3be7-4521-995d-35e535679d1f');\n",
              "          const dataTable =\n",
              "            await google.colab.kernel.invokeFunction('convertToInteractive',\n",
              "                                                     [key], {});\n",
              "          if (!dataTable) return;\n",
              "\n",
              "          const docLinkHtml = 'Like what you see? Visit the ' +\n",
              "            '<a target=\"_blank\" href=https://colab.research.google.com/notebooks/data_table.ipynb>data table notebook</a>'\n",
              "            + ' to learn more about interactive tables.';\n",
              "          element.innerHTML = '';\n",
              "          dataTable['output_type'] = 'display_data';\n",
              "          await google.colab.output.renderOutput(dataTable, element);\n",
              "          const docLink = document.createElement('div');\n",
              "          docLink.innerHTML = docLinkHtml;\n",
              "          element.appendChild(docLink);\n",
              "        }\n",
              "      </script>\n",
              "    </div>\n",
              "  </div>\n",
              "  "
            ]
          },
          "metadata": {},
          "execution_count": 19
        }
      ],
      "source": [
        "sparql = SPARQLWrapper(\"https://data-issa.cirad.fr/sparql\")\n",
        "\n",
        "sparql.setQuery(\"\"\"\n",
        "prefix issapr: <http://data-issa.cirad.fr/property/>\n",
        "prefix dct:\t<http://purl.org/dc/terms/>\n",
        "prefix fabio:     <http://purl.org/spar/fabio/>\n",
        "prefix frbr: <http://purl.org/vocab/frbr/core#>\n",
        "prefix issa: <http://data-issa.cirad.fr/>\n",
        "prefix oa:     <http://www.w3.org/ns/oa#>\n",
        "prefix prov:   <http://www.w3.org/ns/prov#>\n",
        "prefix skosxl: <http://www.w3.org/2008/05/skos-xl#>\n",
        "\n",
        "\n",
        "SELECT \n",
        "DISTINCT ?paper ?AbstractValue ?lang\n",
        " WHERE { \n",
        "?paper dct:identifier ?paperID;\n",
        "             dc:language ?lang.\n",
        "?abstract frbr:partOf ?paper; rdf:type fabio:Abstract .\n",
        "?abstract rdf:value ?AbstractValue . \n",
        "\n",
        "?desc a issa:ThematicDescriptorAnnotation;\n",
        "prov:wasAttributedTo ?annoType;\n",
        "oa:hasTarget ?paper;\n",
        "oa:hasBody ?entity;\n",
        "oa:hasBody <\"\"\" + uri + \"\"\">\n",
        "\n",
        "}\n",
        "\"\"\")\n",
        "sparql.setReturnFormat(JSON)\n",
        "results = sparql.query().convert()\n",
        "\n",
        "\n",
        "results_df = pd.io.json.json_normalize(results['results']['bindings'])\n",
        "results_df[['AbstractValue.value']]"
      ]
    },
    {
      "cell_type": "code",
      "execution_count": null,
      "metadata": {
        "id": "n3C1Mr_1oI8u",
        "colab": {
          "base_uri": "https://localhost:8080/"
        },
        "outputId": "8772c8ba-c7e8-4b4f-a0d4-0cf05102cf43"
      },
      "outputs": [
        {
          "output_type": "stream",
          "name": "stdout",
          "text": [
            "0\n",
            "1\n",
            "2\n",
            "3\n",
            "4\n",
            "5\n",
            "6\n",
            "7\n",
            "8\n",
            "9\n",
            "10\n",
            "11\n",
            "12\n",
            "13\n",
            "14\n",
            "15\n",
            "16\n",
            "17\n",
            "18\n",
            "19\n"
          ]
        }
      ],
      "source": [
        "results_df['Sentence'] = None\n",
        "results_df['Embedding'] = None\n",
        "# A bit long to process\n",
        "for i, row in results_df.iterrows():\n",
        "  if i < 20:\n",
        "    # print(i)\n",
        "    text = row[\"AbstractValue.value\"]\n",
        "    # Create Sentence object\n",
        "    results_df.at[i, 'Sentence'] = Sentence(text)\n",
        "    # embed the sentence\n",
        "    document_embedding.embed(results_df.at[i, 'Sentence'])\n",
        "    # Store embedding differently to reuse it later\n",
        "    results_df.at[i, 'Embedding'] = results_df.at[i, 'Sentence'].embedding"
      ]
    },
    {
      "cell_type": "code",
      "execution_count": null,
      "metadata": {
        "id": "be68YHAvqf73"
      },
      "outputs": [],
      "source": [
        "import numpy as np\n",
        "# Save our data\n",
        "### UNCOMENT HERE TO SAVE \n",
        "np.save('/content/drive/MyDrive/PhD/Hackathon/ISSA/test_doc_embeddings.npy', results_df[\"Embedding\"])"
      ]
    },
    {
      "cell_type": "code",
      "execution_count": null,
      "metadata": {
        "id": "yerjfx0Tybkm"
      },
      "outputs": [],
      "source": [
        "# ### LOAD EMBEDDINGS ### \n",
        "# import numpy as np\n",
        "# # save np.load\n",
        "# np_load_old = np.load\n",
        "\n",
        "# # modify the default parameters of np.load\n",
        "# np.load = lambda *a,**k: np_load_old(*a, allow_pickle=True, **k)\n",
        "\n",
        "# # call load_data with allow_pickle implicitly set to true\n",
        "# all_embeddings = np.load('/content/cacao_doc_embeddings.npy')\n",
        "# # (train_data, train_labels), (test_data, test_labels) = imdb.load_data(num_words=10000)\n",
        "\n",
        "# # restore np.load for future normal usage\n",
        "# np.load = np_load_old\n",
        "\n",
        "# df = pd.read_csv('/content/drive/MyDrive/PhD/Hackathon/ISSA/cacao_with_embeddings.csv')\n",
        "# df[\"Embedding\"] = all_embeddings\n",
        "# print(df)"
      ]
    },
    {
      "cell_type": "code",
      "execution_count": null,
      "metadata": {
        "id": "FxoNrjFqNyL8"
      },
      "outputs": [],
      "source": [
        "results_df['CosinDistances'] = None\n",
        "cosine_distances = []\n",
        "# Dirty first try of cosin dist \n",
        "for i, i_row in results_df.iterrows():\n",
        "  if i < 20:\n",
        "    cosine_distances.append([])\n",
        "    for j, j_row in results_df.iterrows():\n",
        "      if j < 20:\n",
        "        # if i == j: cosine_distances[i].append(1)\n",
        "        # else: cosine_distances[i].append(distance.cosine(i_row[\"Embedding\"], j_row[\"Embedding\"]))\n",
        "        cosine_distances[i].append(distance.cosine(i_row[\"Embedding\"], j_row[\"Embedding\"]))\n",
        "    results_df.at[i, 'CosinDistances'] = cosine_distances[i]"
      ]
    },
    {
      "cell_type": "code",
      "execution_count": null,
      "metadata": {
        "colab": {
          "base_uri": "https://localhost:8080/",
          "height": 832
        },
        "id": "B1DasVhgTcJG",
        "outputId": "861e9e5e-2efb-498c-b44f-e7e56724b360"
      },
      "outputs": [
        {
          "output_type": "execute_result",
          "data": {
            "text/plain": [
              "     paper.type                               paper.value AbstractValue.type  \\\n",
              "0           uri  http://data-issa.cirad.fr/article/423708            literal   \n",
              "1           uri  http://data-issa.cirad.fr/article/455436            literal   \n",
              "2           uri  http://data-issa.cirad.fr/article/387424            literal   \n",
              "3           uri  http://data-issa.cirad.fr/article/515708            literal   \n",
              "4           uri  http://data-issa.cirad.fr/article/455024            literal   \n",
              "...         ...                                       ...                ...   \n",
              "1405        uri  http://data-issa.cirad.fr/article/480496            literal   \n",
              "1406        uri  http://data-issa.cirad.fr/article/517357            literal   \n",
              "1407        uri  http://data-issa.cirad.fr/article/508247            literal   \n",
              "1408        uri  http://data-issa.cirad.fr/article/601755            literal   \n",
              "1409        uri  http://data-issa.cirad.fr/article/602255            literal   \n",
              "\n",
              "                                    AbstractValue.value lang.type lang.value  \\\n",
              "0     Carences, excès, analyses foliaires de CU, ZN,...   literal        fre   \n",
              "1     Approche globale des systèmes de production re...   literal        fre   \n",
              "2     La culture du maïs s'est largement répandue da...   literal        eng   \n",
              "3     Dans l'Extrême-Nord du Cameroun, province la p...   literal        fre   \n",
              "4     L'étude clinique et épidémiologique de la bruc...   literal        fre   \n",
              "...                                                 ...       ...        ...   \n",
              "1405  L'intervention du projet DPGT sur l'organisati...   literal        fre   \n",
              "1406  Banane : le marché s'est sorti de la grave cri...   literal        fre   \n",
              "1407  Banane: Malgré des volumes en retrait par rapp...   literal        fre   \n",
              "1408  In this report, we present the first descripti...   literal        eng   \n",
              "1409  The antifungal and antiaflatoxinogenic activit...   literal        eng   \n",
              "\n",
              "                                               Sentence  \\\n",
              "0     (Token[0]: \"Carences\", Token[1]: \",\", Token[2]...   \n",
              "1     (Token[0]: \"Approche\", Token[1]: \"globale\", To...   \n",
              "2     (Token[0]: \"La\", Token[1]: \"culture\", Token[2]...   \n",
              "3     (Token[0]: \"Dans\", Token[1]: \"l'Extrême-Nord\",...   \n",
              "4     (Token[0]: \"L'étude\", Token[1]: \"clinique\", To...   \n",
              "...                                                 ...   \n",
              "1405                                               None   \n",
              "1406                                               None   \n",
              "1407                                               None   \n",
              "1408                                               None   \n",
              "1409                                               None   \n",
              "\n",
              "                                              Embedding  \\\n",
              "0     [tensor(0.0646), tensor(-0.1152), tensor(0.817...   \n",
              "1     [tensor(-0.2438), tensor(-0.1890), tensor(0.59...   \n",
              "2     [tensor(-0.4130), tensor(-0.2176), tensor(0.29...   \n",
              "3     [tensor(-0.1135), tensor(-0.3082), tensor(0.51...   \n",
              "4     [tensor(-0.1877), tensor(-0.4048), tensor(0.55...   \n",
              "...                                                 ...   \n",
              "1405                                               None   \n",
              "1406                                               None   \n",
              "1407                                               None   \n",
              "1408                                               None   \n",
              "1409                                               None   \n",
              "\n",
              "                                         CosinDistances  \n",
              "0     [0, 0.30014026165008545, 0.23718804121017456, ...  \n",
              "1     [0.30014026165008545, 0, 0.18501853942871094, ...  \n",
              "2     [0.23718804121017456, 0.18501853942871094, 0, ...  \n",
              "3     [0.29860860109329224, 0.2568964958190918, 0.15...  \n",
              "4     [0.18383872509002686, 0.23748302459716797, 0.1...  \n",
              "...                                                 ...  \n",
              "1405                                               None  \n",
              "1406                                               None  \n",
              "1407                                               None  \n",
              "1408                                               None  \n",
              "1409                                               None  \n",
              "\n",
              "[1410 rows x 9 columns]"
            ],
            "text/html": [
              "\n",
              "  <div id=\"df-c055af71-31de-4908-8076-1e70c6f5e0d0\">\n",
              "    <div class=\"colab-df-container\">\n",
              "      <div>\n",
              "<style scoped>\n",
              "    .dataframe tbody tr th:only-of-type {\n",
              "        vertical-align: middle;\n",
              "    }\n",
              "\n",
              "    .dataframe tbody tr th {\n",
              "        vertical-align: top;\n",
              "    }\n",
              "\n",
              "    .dataframe thead th {\n",
              "        text-align: right;\n",
              "    }\n",
              "</style>\n",
              "<table border=\"1\" class=\"dataframe\">\n",
              "  <thead>\n",
              "    <tr style=\"text-align: right;\">\n",
              "      <th></th>\n",
              "      <th>paper.type</th>\n",
              "      <th>paper.value</th>\n",
              "      <th>AbstractValue.type</th>\n",
              "      <th>AbstractValue.value</th>\n",
              "      <th>lang.type</th>\n",
              "      <th>lang.value</th>\n",
              "      <th>Sentence</th>\n",
              "      <th>Embedding</th>\n",
              "      <th>CosinDistances</th>\n",
              "    </tr>\n",
              "  </thead>\n",
              "  <tbody>\n",
              "    <tr>\n",
              "      <th>0</th>\n",
              "      <td>uri</td>\n",
              "      <td>http://data-issa.cirad.fr/article/423708</td>\n",
              "      <td>literal</td>\n",
              "      <td>Carences, excès, analyses foliaires de CU, ZN,...</td>\n",
              "      <td>literal</td>\n",
              "      <td>fre</td>\n",
              "      <td>(Token[0]: \"Carences\", Token[1]: \",\", Token[2]...</td>\n",
              "      <td>[tensor(0.0646), tensor(-0.1152), tensor(0.817...</td>\n",
              "      <td>[0, 0.30014026165008545, 0.23718804121017456, ...</td>\n",
              "    </tr>\n",
              "    <tr>\n",
              "      <th>1</th>\n",
              "      <td>uri</td>\n",
              "      <td>http://data-issa.cirad.fr/article/455436</td>\n",
              "      <td>literal</td>\n",
              "      <td>Approche globale des systèmes de production re...</td>\n",
              "      <td>literal</td>\n",
              "      <td>fre</td>\n",
              "      <td>(Token[0]: \"Approche\", Token[1]: \"globale\", To...</td>\n",
              "      <td>[tensor(-0.2438), tensor(-0.1890), tensor(0.59...</td>\n",
              "      <td>[0.30014026165008545, 0, 0.18501853942871094, ...</td>\n",
              "    </tr>\n",
              "    <tr>\n",
              "      <th>2</th>\n",
              "      <td>uri</td>\n",
              "      <td>http://data-issa.cirad.fr/article/387424</td>\n",
              "      <td>literal</td>\n",
              "      <td>La culture du maïs s'est largement répandue da...</td>\n",
              "      <td>literal</td>\n",
              "      <td>eng</td>\n",
              "      <td>(Token[0]: \"La\", Token[1]: \"culture\", Token[2]...</td>\n",
              "      <td>[tensor(-0.4130), tensor(-0.2176), tensor(0.29...</td>\n",
              "      <td>[0.23718804121017456, 0.18501853942871094, 0, ...</td>\n",
              "    </tr>\n",
              "    <tr>\n",
              "      <th>3</th>\n",
              "      <td>uri</td>\n",
              "      <td>http://data-issa.cirad.fr/article/515708</td>\n",
              "      <td>literal</td>\n",
              "      <td>Dans l'Extrême-Nord du Cameroun, province la p...</td>\n",
              "      <td>literal</td>\n",
              "      <td>fre</td>\n",
              "      <td>(Token[0]: \"Dans\", Token[1]: \"l'Extrême-Nord\",...</td>\n",
              "      <td>[tensor(-0.1135), tensor(-0.3082), tensor(0.51...</td>\n",
              "      <td>[0.29860860109329224, 0.2568964958190918, 0.15...</td>\n",
              "    </tr>\n",
              "    <tr>\n",
              "      <th>4</th>\n",
              "      <td>uri</td>\n",
              "      <td>http://data-issa.cirad.fr/article/455024</td>\n",
              "      <td>literal</td>\n",
              "      <td>L'étude clinique et épidémiologique de la bruc...</td>\n",
              "      <td>literal</td>\n",
              "      <td>fre</td>\n",
              "      <td>(Token[0]: \"L'étude\", Token[1]: \"clinique\", To...</td>\n",
              "      <td>[tensor(-0.1877), tensor(-0.4048), tensor(0.55...</td>\n",
              "      <td>[0.18383872509002686, 0.23748302459716797, 0.1...</td>\n",
              "    </tr>\n",
              "    <tr>\n",
              "      <th>...</th>\n",
              "      <td>...</td>\n",
              "      <td>...</td>\n",
              "      <td>...</td>\n",
              "      <td>...</td>\n",
              "      <td>...</td>\n",
              "      <td>...</td>\n",
              "      <td>...</td>\n",
              "      <td>...</td>\n",
              "      <td>...</td>\n",
              "    </tr>\n",
              "    <tr>\n",
              "      <th>1405</th>\n",
              "      <td>uri</td>\n",
              "      <td>http://data-issa.cirad.fr/article/480496</td>\n",
              "      <td>literal</td>\n",
              "      <td>L'intervention du projet DPGT sur l'organisati...</td>\n",
              "      <td>literal</td>\n",
              "      <td>fre</td>\n",
              "      <td>None</td>\n",
              "      <td>None</td>\n",
              "      <td>None</td>\n",
              "    </tr>\n",
              "    <tr>\n",
              "      <th>1406</th>\n",
              "      <td>uri</td>\n",
              "      <td>http://data-issa.cirad.fr/article/517357</td>\n",
              "      <td>literal</td>\n",
              "      <td>Banane : le marché s'est sorti de la grave cri...</td>\n",
              "      <td>literal</td>\n",
              "      <td>fre</td>\n",
              "      <td>None</td>\n",
              "      <td>None</td>\n",
              "      <td>None</td>\n",
              "    </tr>\n",
              "    <tr>\n",
              "      <th>1407</th>\n",
              "      <td>uri</td>\n",
              "      <td>http://data-issa.cirad.fr/article/508247</td>\n",
              "      <td>literal</td>\n",
              "      <td>Banane: Malgré des volumes en retrait par rapp...</td>\n",
              "      <td>literal</td>\n",
              "      <td>fre</td>\n",
              "      <td>None</td>\n",
              "      <td>None</td>\n",
              "      <td>None</td>\n",
              "    </tr>\n",
              "    <tr>\n",
              "      <th>1408</th>\n",
              "      <td>uri</td>\n",
              "      <td>http://data-issa.cirad.fr/article/601755</td>\n",
              "      <td>literal</td>\n",
              "      <td>In this report, we present the first descripti...</td>\n",
              "      <td>literal</td>\n",
              "      <td>eng</td>\n",
              "      <td>None</td>\n",
              "      <td>None</td>\n",
              "      <td>None</td>\n",
              "    </tr>\n",
              "    <tr>\n",
              "      <th>1409</th>\n",
              "      <td>uri</td>\n",
              "      <td>http://data-issa.cirad.fr/article/602255</td>\n",
              "      <td>literal</td>\n",
              "      <td>The antifungal and antiaflatoxinogenic activit...</td>\n",
              "      <td>literal</td>\n",
              "      <td>eng</td>\n",
              "      <td>None</td>\n",
              "      <td>None</td>\n",
              "      <td>None</td>\n",
              "    </tr>\n",
              "  </tbody>\n",
              "</table>\n",
              "<p>1410 rows × 9 columns</p>\n",
              "</div>\n",
              "      <button class=\"colab-df-convert\" onclick=\"convertToInteractive('df-c055af71-31de-4908-8076-1e70c6f5e0d0')\"\n",
              "              title=\"Convert this dataframe to an interactive table.\"\n",
              "              style=\"display:none;\">\n",
              "        \n",
              "  <svg xmlns=\"http://www.w3.org/2000/svg\" height=\"24px\"viewBox=\"0 0 24 24\"\n",
              "       width=\"24px\">\n",
              "    <path d=\"M0 0h24v24H0V0z\" fill=\"none\"/>\n",
              "    <path d=\"M18.56 5.44l.94 2.06.94-2.06 2.06-.94-2.06-.94-.94-2.06-.94 2.06-2.06.94zm-11 1L8.5 8.5l.94-2.06 2.06-.94-2.06-.94L8.5 2.5l-.94 2.06-2.06.94zm10 10l.94 2.06.94-2.06 2.06-.94-2.06-.94-.94-2.06-.94 2.06-2.06.94z\"/><path d=\"M17.41 7.96l-1.37-1.37c-.4-.4-.92-.59-1.43-.59-.52 0-1.04.2-1.43.59L10.3 9.45l-7.72 7.72c-.78.78-.78 2.05 0 2.83L4 21.41c.39.39.9.59 1.41.59.51 0 1.02-.2 1.41-.59l7.78-7.78 2.81-2.81c.8-.78.8-2.07 0-2.86zM5.41 20L4 18.59l7.72-7.72 1.47 1.35L5.41 20z\"/>\n",
              "  </svg>\n",
              "      </button>\n",
              "      \n",
              "  <style>\n",
              "    .colab-df-container {\n",
              "      display:flex;\n",
              "      flex-wrap:wrap;\n",
              "      gap: 12px;\n",
              "    }\n",
              "\n",
              "    .colab-df-convert {\n",
              "      background-color: #E8F0FE;\n",
              "      border: none;\n",
              "      border-radius: 50%;\n",
              "      cursor: pointer;\n",
              "      display: none;\n",
              "      fill: #1967D2;\n",
              "      height: 32px;\n",
              "      padding: 0 0 0 0;\n",
              "      width: 32px;\n",
              "    }\n",
              "\n",
              "    .colab-df-convert:hover {\n",
              "      background-color: #E2EBFA;\n",
              "      box-shadow: 0px 1px 2px rgba(60, 64, 67, 0.3), 0px 1px 3px 1px rgba(60, 64, 67, 0.15);\n",
              "      fill: #174EA6;\n",
              "    }\n",
              "\n",
              "    [theme=dark] .colab-df-convert {\n",
              "      background-color: #3B4455;\n",
              "      fill: #D2E3FC;\n",
              "    }\n",
              "\n",
              "    [theme=dark] .colab-df-convert:hover {\n",
              "      background-color: #434B5C;\n",
              "      box-shadow: 0px 1px 3px 1px rgba(0, 0, 0, 0.15);\n",
              "      filter: drop-shadow(0px 1px 2px rgba(0, 0, 0, 0.3));\n",
              "      fill: #FFFFFF;\n",
              "    }\n",
              "  </style>\n",
              "\n",
              "      <script>\n",
              "        const buttonEl =\n",
              "          document.querySelector('#df-c055af71-31de-4908-8076-1e70c6f5e0d0 button.colab-df-convert');\n",
              "        buttonEl.style.display =\n",
              "          google.colab.kernel.accessAllowed ? 'block' : 'none';\n",
              "\n",
              "        async function convertToInteractive(key) {\n",
              "          const element = document.querySelector('#df-c055af71-31de-4908-8076-1e70c6f5e0d0');\n",
              "          const dataTable =\n",
              "            await google.colab.kernel.invokeFunction('convertToInteractive',\n",
              "                                                     [key], {});\n",
              "          if (!dataTable) return;\n",
              "\n",
              "          const docLinkHtml = 'Like what you see? Visit the ' +\n",
              "            '<a target=\"_blank\" href=https://colab.research.google.com/notebooks/data_table.ipynb>data table notebook</a>'\n",
              "            + ' to learn more about interactive tables.';\n",
              "          element.innerHTML = '';\n",
              "          dataTable['output_type'] = 'display_data';\n",
              "          await google.colab.output.renderOutput(dataTable, element);\n",
              "          const docLink = document.createElement('div');\n",
              "          docLink.innerHTML = docLinkHtml;\n",
              "          element.appendChild(docLink);\n",
              "        }\n",
              "      </script>\n",
              "    </div>\n",
              "  </div>\n",
              "  "
            ]
          },
          "metadata": {},
          "execution_count": 23
        }
      ],
      "source": [
        "results_df"
      ]
    },
    {
      "cell_type": "code",
      "execution_count": null,
      "metadata": {
        "id": "sWTGSCsQ4M9N"
      },
      "outputs": [],
      "source": [
        "results_df.to_csv('/content/drive/MyDrive/PhD/Hackathon/ISSA/test.csv')"
      ]
    },
    {
      "cell_type": "code",
      "source": [
        "results_df[\"SumCosinDistances\"] = 1\n",
        "for i, row in results_df.iterrows():\n",
        "  if i < 20:\n",
        "    results_df.at[i, 'SumCosinDistances'] = sum(row[\"CosinDistances\"])/len(results_df)"
      ],
      "metadata": {
        "id": "pGKPrOV2SFdw"
      },
      "execution_count": null,
      "outputs": []
    },
    {
      "cell_type": "code",
      "execution_count": null,
      "metadata": {
        "colab": {
          "base_uri": "https://localhost:8080/",
          "height": 1000
        },
        "id": "lxtqN3RBOnsI",
        "outputId": "e9158010-d78c-41ef-e7d8-13e060f2bc53"
      },
      "outputs": [
        {
          "output_type": "execute_result",
          "data": {
            "text/plain": [
              "<matplotlib.axes._subplots.AxesSubplot at 0x7f827d6319d0>"
            ]
          },
          "metadata": {},
          "execution_count": 27
        },
        {
          "output_type": "display_data",
          "data": {
            "text/plain": [
              "<Figure size 1440x1440 with 2 Axes>"
            ],
            "image/png": "[encoded data removed]"
          },
          "metadata": {}
        }
      ],
      "source": [
        "# libraries\n",
        "import seaborn as sns\n",
        "import pandas as pd\n",
        "import numpy as np\n",
        "\n",
        "\n",
        "# plot a heatmap with annotation\n",
        "### BE CARFULL SUUUUPER BIG AND LONG (8min)\n",
        "# sns.set(rc={'figure.figsize':(200,200)})\n",
        "sns.set(rc={'figure.figsize':(20,20)})\n",
        "sns.heatmap(pd.DataFrame(cosine_distances), annot=True, annot_kws={\"size\": 7})"
      ]
    },
    {
      "cell_type": "code",
      "execution_count": null,
      "metadata": {
        "id": "9tNvyF9V4rkk"
      },
      "outputs": [],
      "source": [
        "def find_bests(df_id, n_top):\n",
        "  # We add 1 for the case of doc X compare to doc X\n",
        "  n_top += 1\n",
        "  row = results_df.iloc[df_id]\n",
        "  print(row[\"CosinDistances\"])\n",
        "  my_list = row[\"CosinDistances\"]\n",
        "  max_values = nsmallest(n_top, my_list)\n",
        "  print(\"Best match for\", df_id, row[\"paper.value\"])\n",
        "  max_indexes = []\n",
        "  for max_value in max_values[1:]:\n",
        "    max_index = my_list.index(max_value)\n",
        "    max_indexes.append(max_index)\n",
        "    print(\"Is\", max_index, results_df.iloc[max_index][\"paper.value\"])\n",
        "    print(\"Distance is\", max_value)\n",
        "    print(\"Lang is\", row[\"lang.value\"], results_df.iloc[max_index][\"lang.value\"])\n",
        "  print(\"-------\")\n",
        "  return max_indexes"
      ]
    },
    {
      "cell_type": "code",
      "execution_count": null,
      "metadata": {
        "colab": {
          "base_uri": "https://localhost:8080/"
        },
        "id": "oYqJ8eHB9S5g",
        "outputId": "1a6eb29c-3440-4c5b-ad2b-4bee8c0b204e"
      },
      "outputs": [
        {
          "output_type": "stream",
          "name": "stdout",
          "text": [
            "[0.23718804121017456, 0.18501853942871094, 0, 0.155567467212677, 0.12476474046707153, 0.25456517934799194, 0.12161314487457275, 0.13525205850601196, 0.1085660457611084, 0.11110150814056396, 0.19155269861221313, 0.30391865968704224, 0.2718878984451294, 0.26471465826034546, 0.2863039970397949, 0.2725662589073181, 0.17540794610977173, 0.26983213424682617, 0.29174065589904785, 0.10603117942810059]\n",
            "Best match for 2 http://data-issa.cirad.fr/article/387424\n",
            "Is 19 http://data-issa.cirad.fr/article/547124\n",
            "Distance is 0.10603117942810059\n",
            "Lang is eng fre\n",
            "Is 8 http://data-issa.cirad.fr/article/388072\n",
            "Distance is 0.1085660457611084\n",
            "Lang is eng fre\n",
            "Is 9 http://data-issa.cirad.fr/article/600125\n",
            "Distance is 0.11110150814056396\n",
            "Lang is eng fre\n",
            "-------\n",
            "[19, 8, 9]\n",
            "[0.18383872509002686, 0.23748302459716797, 0.12476474046707153, 0.180911123752594, 0, 0.27777427434921265, 0.1498311161994934, 0.15308433771133423, 0.12152373790740967, 0.14454102516174316, 0.18620532751083374, 0.27384936809539795, 0.2967354655265808, 0.21546322107315063, 0.3736373782157898, 0.25869613885879517, 0.1710820198059082, 0.326852023601532, 0.2637653946876526, 0.12384992837905884]\n",
            "Best match for 4 http://data-issa.cirad.fr/article/455024\n",
            "Is 8 http://data-issa.cirad.fr/article/388072\n",
            "Distance is 0.12152373790740967\n",
            "Lang is fre fre\n",
            "Is 19 http://data-issa.cirad.fr/article/547124\n",
            "Distance is 0.12384992837905884\n",
            "Lang is fre fre\n",
            "Is 2 http://data-issa.cirad.fr/article/387424\n",
            "Distance is 0.12476474046707153\n",
            "Lang is fre eng\n",
            "-------\n",
            "[8, 19, 2]\n"
          ]
        }
      ],
      "source": [
        "print(find_bests(2, 3))\n",
        "print(find_bests(4, 3))"
      ]
    },
    {
      "cell_type": "markdown",
      "source": [
        "Error detection is here : https://colab.research.google.com/drive/1ePtSW10HEu1mYfYk5U9P19_u29SE5stG?usp=sharing"
      ],
      "metadata": {
        "id": "0HFipRKRAk3X"
      }
    },
    {
      "cell_type": "code",
      "source": [
        "# # Return document id in dataframe and sum of cosine distances\n",
        "# def find_errors(cosin_distances):\n",
        "#   errors = []\n",
        "#   for i, cosin_distance in enumerate(cosin_distances):\n",
        "#     euristic = sum(cosin_distance)/len(cosin_distances)\n",
        "#     # if euristic < 0.2: print(\"low\", i, euristic)\n",
        "#     if euristic > 0.35: errors.append([i, euristic])\n",
        "#     # print(i, euristic)\n",
        "#   return errors"
      ],
      "metadata": {
        "id": "t8DHy3FJGS_q"
      },
      "execution_count": null,
      "outputs": []
    },
    {
      "cell_type": "code",
      "source": [
        "# print(find_errors(results_df[\"CosinDistances\"]))"
      ],
      "metadata": {
        "id": "nPpXMDb-Hn_z"
      },
      "execution_count": null,
      "outputs": []
    },
    {
      "cell_type": "code",
      "source": [
        "# print(find_bests(43, 3))\n",
        "# print(find_bests(124, 3))"
      ],
      "metadata": {
        "id": "F0kM1jyUImu7"
      },
      "execution_count": null,
      "outputs": []
    },
    {
      "cell_type": "code",
      "execution_count": null,
      "metadata": {
        "id": "7DN4la9hP2N9"
      },
      "outputs": [],
      "source": [
        "# for i, row in results_df.iterrows():\n",
        "#   if i < 20:\n",
        "#     my_list = row[\"CosinDistances\"]\n",
        "#     min_values = nsmallest(3, my_list)\n",
        "#     # min_value = min(my_list)\n",
        "#     print(\"Best match for\", i, row[\"paper.value\"])\n",
        "#     min_indexes = []\n",
        "#     for min_value in min_values:\n",
        "#       min_index = my_list.index(min_value)\n",
        "#       min_indexes.append(min_index)\n",
        "#       print(\"Is\", min_index, results_df.iloc[min_index][\"paper.value\"])\n",
        "#       print(\"Distance is\", min_value)\n",
        "#       print(\"Lang is\", row[\"lang.value\"], results_df.iloc[min_index][\"lang.value\"])\n",
        "#     print(\"-------\")"
      ]
    },
    {
      "cell_type": "code",
      "source": [],
      "metadata": {
        "id": "MhKXEgywAjpc"
      },
      "execution_count": null,
      "outputs": []
    }
  ],
  "metadata": {
    "colab": {
      "collapsed_sections": [],
      "provenance": []
    },
    "kernelspec": {
      "display_name": "Python 3",
      "name": "python3"
    },
    "language_info": {
      "name": "python"
    }
  },
  "nbformat": 4,
  "nbformat_minor": 0
}